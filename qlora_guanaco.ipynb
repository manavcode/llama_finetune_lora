{
  "nbformat": 4,
  "nbformat_minor": 0,
  "metadata": {
    "colab": {
      "provenance": []
    },
    "kernelspec": {
      "name": "python3",
      "display_name": "Python 3"
    },
    "language_info": {
      "name": "python"
    }
  },
  "cells": [
    {
      "cell_type": "code",
      "execution_count": null,
      "metadata": {
        "id": "xAqpvFsPGqLa"
      },
      "outputs": [],
      "source": [
        "!pip install -q accelerate peft bitsandbytes transformers trl"
      ]
    },
    {
      "cell_type": "code",
      "source": [
        "import os\n",
        "import torch\n",
        "\n",
        "from datasets import load_dataset\n",
        "from transformers import AutoModelForCausalLM, AutoTokenizer, BitsAndBytesConfig, HfArgumentParser, TrainingArguments, pipeline, logging\n",
        "from peft import LoraConfig, PeftModel\n",
        "from trl import SFTTrainer\n",
        "from trl.trainer import ConstantLengthDataset"
      ],
      "metadata": {
        "id": "w0d8XgpeGscz"
      },
      "execution_count": null,
      "outputs": []
    },
    {
      "cell_type": "code",
      "source": [
        "# Let's check the GPU configuraiton and instance type\n",
        "!nvidia-smi"
      ],
      "metadata": {
        "id": "H7X8z5dXGtx7"
      },
      "execution_count": null,
      "outputs": []
    },
    {
      "cell_type": "code",
      "source": [
        "DATASET_NAME = \"mlabonne/guanaco-llama2-1k\"\n",
        "dataset = load_dataset(DATASET_NAME, split=\"train\")"
      ],
      "metadata": {
        "id": "DqvUKsLWGvCh"
      },
      "execution_count": null,
      "outputs": []
    },
    {
      "cell_type": "code",
      "source": [
        "# Let's take a look at one of the entries in our dataset\n",
        "dataset[5]"
      ],
      "metadata": {
        "id": "LF5D2FbwGwSq"
      },
      "execution_count": null,
      "outputs": []
    },
    {
      "cell_type": "code",
      "source": [
        "# Initialize quantization configuration. While you may play around with the\n",
        "# configuraiton, this is not a design choice, simply depends on your GPU setup.\n",
        "USE_4BIT = True\n",
        "COMPUTE_DTYPE = \"float16\"\n",
        "QUANTIZATION_TYPE = \"nf4\"\n",
        "USE_NESTED_QUANTIZATION = False\n",
        "\n",
        "bnb_config = BitsAndBytesConfig(\n",
        "    load_in_4bit=USE_4BIT,\n",
        "    bnb_4bit_quant_type=QUANTIZATION_TYPE,\n",
        "    bnb_4bit_compute_dtype=COMPUTE_DTYPE,\n",
        "    bnb_4bit_use_double_quant=USE_NESTED_QUANTIZATION,\n",
        ")\n",
        "\n",
        "# Check GPU compatibility with bfloat16\n",
        "major, _ = torch.cuda.get_device_capability()\n",
        "if major >= 8:\n",
        "    print(\"=\" * 80)\n",
        "    print(\"Your GPU supports bfloat16: accelerate training with bf16=True\")\n",
        "    print(\"=\" * 80)"
      ],
      "metadata": {
        "id": "F6TNujJfGxoJ"
      },
      "execution_count": null,
      "outputs": []
    },
    {
      "cell_type": "code",
      "source": [
        "!pip install --upgrade accelerate"
      ],
      "metadata": {
        "id": "FCcBW9hFGzS_"
      },
      "execution_count": null,
      "outputs": []
    },
    {
      "cell_type": "code",
      "source": [
        "# Load base model\n",
        "# MODEL_NAME = \"distilgpt2\"\n",
        "# MODEL_NAME = \"NousResearch/Llama-2-7b-chat-hf\"\n",
        "MODEL_NAME = \"facebook/opt-1.3b\"\n",
        "\n",
        "DEVICE_MAP = {\"\": 0}\n",
        "\n",
        "model = AutoModelForCausalLM.from_pretrained(\n",
        "    MODEL_NAME,\n",
        "    quantization_config=bnb_config,\n",
        "    device_map=DEVICE_MAP\n",
        ")\n",
        "model.config.use_cache = False\n",
        "model.config.pretraining_tp = 1\n",
        "\n",
        "# Load tokenizer\n",
        "tokenizer = AutoTokenizer.from_pretrained(\n",
        "    MODEL_NAME,\n",
        "    trust_remote_code=True,\n",
        "    use_fast=True\n",
        ")\n",
        "tokenizer.pad_token = tokenizer.eos_token\n",
        "tokenizer.padding_side = \"right\""
      ],
      "metadata": {
        "id": "0Ua8oH_HG01K"
      },
      "execution_count": null,
      "outputs": []
    },
    {
      "cell_type": "code",
      "source": [
        "# Take a look at your model\n",
        "model"
      ],
      "metadata": {
        "id": "1pCdaiRsG2iD"
      },
      "execution_count": null,
      "outputs": []
    },
    {
      "cell_type": "code",
      "source": [
        "# Initialize your LoRA hyperparameters\n",
        "ADAPTER_NAME = \"lora_adapter\"\n",
        "\n",
        "### BEGIN YOUR CODE ###\n",
        "\n",
        "LORA_DROPOUT = 0.05\n",
        "LORA_ALPHA = 32\n",
        "LORA_R = 4\n",
        "\n",
        "###### GPT-2\n",
        "# Hint: in the above output, you want to focus on the names in parantheses, i.e.(resid_dropout) in GPT2\n",
        "# TARGET_MODULES = [\"wte\", \"wpe\", \"c_attn\", \"c_proj\", \"c_fc\", \"lm_head\"] # , p8adam: 2-3 epochs gibberish output, started from 6.5 and then went to 13 and came to 6\n",
        "# TARGET_MODULES = [\"wte\", \"wpe\", \"c_attn\", \"c_proj\", \"c_fc\"] # - 1.93, 0, 0,\n",
        "\n",
        "# TARGET_MODULES = [\"c_attn\", \"c_proj\", \"c_fc\"] #, - p8adam: gibberish, loss goes from 6 to 4ish\n",
        "\n",
        "# TARGET_MODULES = [\"lm_head\"] - # 1.93, 0....\n",
        "\n",
        "# Attention and linear\n",
        "# TARGET_MODULES = [\"c_attn\", \"c_proj\", \"c_fc\", \"lm_head\"] # 1.94, 0, ....\n",
        "\n",
        "# TARGET_MODULES = [\"c_attn\", \"c_proj\", \"c_fc\"]\n",
        "\n",
        "##### LAMA\n",
        "\n",
        "# TARGET_MODULES = [\"k_proj\", \"v_proj\", \"q_proj\", \"out_proj\", \"fc1\", \"fc2\"]\n",
        "\n",
        "# first and last\n",
        "# TARGET_MODULES = [\"embed_tokens\", \"lm_head\"]\n",
        "\n",
        "#### opt\n",
        "# TARGET_MODULES = [\"embed_tokens\", \"embed_positions\", \"k_proj\", \"v_proj\", \"q_proj\", \"out_proj\", \"fc1\", \"fc2\", \"lm_head\"]\n",
        "\n",
        "# TARGET_MODULES = [\"embed_tokens\", \"lm_head\"]\n",
        "\n",
        "### best option:\n",
        "TARGET_MODULES = [\"k_proj\", \"v_proj\", \"q_proj\", \"out_proj\", \"fc1\", \"fc2\"]\n",
        "\n",
        "### END YOUR CODE ###\n",
        "\n",
        "# Load LoRA configuration\n",
        "peft_config = LoraConfig(\n",
        "    lora_alpha=LORA_ALPHA,\n",
        "    lora_dropout=LORA_DROPOUT,\n",
        "    r=LORA_R,\n",
        "    target_modules=TARGET_MODULES,\n",
        "    task_type=\"CAUSAL_LM\",\n",
        "    bias=\"none\"\n",
        ")\n",
        "\n",
        "# Add the LoRA adapter to your model and freeze all other weights\n",
        "model.add_adapter(peft_config, adapter_name=ADAPTER_NAME)\n",
        "model.set_adapter(ADAPTER_NAME)"
      ],
      "metadata": {
        "id": "rl5YuMTjG4iu"
      },
      "execution_count": null,
      "outputs": []
    },
    {
      "cell_type": "code",
      "source": [
        "# Now we have applied the adapter, let's take another look at our model!\n",
        "model"
      ],
      "metadata": {
        "id": "5ITeGhe0G6An"
      },
      "execution_count": null,
      "outputs": []
    },
    {
      "cell_type": "code",
      "source": [
        "# Number of training epochs\n",
        "num_train_epochs = 1\n",
        "\n",
        "### BEGIN YOUR CODE ###\n",
        "\n",
        "# Select hyperparameters for learning rate\n",
        "optimizer = \"adamw_hf\"                    # Type of optimizer\n",
        "max_grad_norm = 1.0                 # Maximum gradient normal (gradient clipping)\n",
        "learning_rate = 2.5e-4                # Initial learning rate\n",
        "weight_decay = 1e-4               # Weight decay to apply to all layers except bias/LayerNorm weights\n",
        "\n",
        "### END YOUR CODE ###\n",
        "\n",
        "# Select hyperparameters for learning rate scheduler\n",
        "lr_scheduler_type = \"cosine\"          # Learning rate schedule type\n",
        "warmup_ratio = 0.03                   # Ratio of steps for a linear warmup (from 0 to learning rate)\n",
        "\n",
        "# Etc. training configurations (ajudst for your compute requirements accordingly)\n",
        "fp16 = False                          # Enable fp16/bf16 training\n",
        "bf16 = False\n",
        "if MODEL_NAME == \"distilgpt2\":\n",
        "    per_device_train_batch_size = 8   # Batch size per GPU for training\n",
        "elif MODEL_NAME == \"NousResearch/Llama-2-7b-chat-hf\":\n",
        "    per_device_train_batch_size = 1\n",
        "elif MODEL_NAME == \"facebook/opt-1.3b\":\n",
        "    per_device_train_batch_size = 2\n",
        "gradient_accumulation_steps = 1       # Number of update steps to accumulate the gradients for\n",
        "gradient_checkpointing = True         # Enable gradient checkpointing\n",
        "save_steps = 0                        # Save checkpoint every X updates steps\n",
        "logging_steps = 25                    # Log every X updates steps\n",
        "\n",
        "# Options for supervised fine-tuning with TRL\n",
        "max_seq_length = 512\n",
        "group_by_length = True                # Group sequences into batches with same length\n",
        "packing = False                       # Pack multiple short examples in the same input sequence to increase efficiency\n",
        "\n",
        "training_arguments = TrainingArguments(\n",
        "    output_dir='.',\n",
        "    num_train_epochs=num_train_epochs,\n",
        "    per_device_train_batch_size=per_device_train_batch_size,\n",
        "    gradient_accumulation_steps=gradient_accumulation_steps,\n",
        "    optim=optimizer,\n",
        "    save_steps=save_steps,\n",
        "    logging_steps=logging_steps,\n",
        "    learning_rate=learning_rate,\n",
        "    weight_decay=weight_decay,\n",
        "    fp16=fp16,\n",
        "    bf16=bf16,\n",
        "    max_grad_norm=max_grad_norm,\n",
        "    max_steps=-1,\n",
        "    warmup_ratio=warmup_ratio,\n",
        "    group_by_length=group_by_length,\n",
        "    lr_scheduler_type=lr_scheduler_type\n",
        ")"
      ],
      "metadata": {
        "id": "xJNW1HpgG7lL"
      },
      "execution_count": null,
      "outputs": []
    },
    {
      "cell_type": "code",
      "source": [
        "# Begin our training loop with the managed SFT library\n",
        "trainer = SFTTrainer(\n",
        "    model=model,\n",
        "    train_dataset=dataset,\n",
        "    dataset_text_field=\"text\",\n",
        "    max_seq_length=max_seq_length,\n",
        "    tokenizer=tokenizer,\n",
        "    args=training_arguments,\n",
        "    packing=packing,\n",
        ")\n",
        "\n",
        "trainer.train()"
      ],
      "metadata": {
        "id": "wJggXIq4G9VH"
      },
      "execution_count": null,
      "outputs": []
    },
    {
      "cell_type": "code",
      "source": [
        "def gpt_inference(model, tokenizer, text, text_preprocessing_fn=None):\n",
        "    \"\"\"\n",
        "    Evaluates the model's greedy or beam responses on eval_conversations\n",
        "\n",
        "    Args:\n",
        "        model: A sequence-to-sequence model.\n",
        "        tokenizer: A tokenizer for the model.\n",
        "        text (str): Input prompt to model.\n",
        "        text_preprocessing_fn (optional): Function for preprocessing text string.\n",
        "\n",
        "    Returns: generated_text\n",
        "        generated_text (str): output code generated by model\n",
        "    \"\"\"\n",
        "    model.eval()\n",
        "\n",
        "    if text_preprocessing_fn is not None:\n",
        "        text = text_preprocessing_fn(text)\n",
        "\n",
        "    generated_text = None\n",
        "\n",
        "    ### BEGIN YOUR CODE ###\n",
        "\n",
        "    # text = \"[INST] \" + text + \" [\\INST]\"\n",
        "\n",
        "    with torch.no_grad():\n",
        "      tokenized_data = tokenizer.encode(text, return_tensors=\"pt\", truncation=True, padding=True)\n",
        "      # print(tokenized_data.shape)\n",
        "      outputs = model.generate(tokenized_data.to(device),\n",
        "                              pad_token_id=tokenizer.eos_token_id, max_new_tokens=50,\n",
        "                              early_stopping=True)\n",
        "      print(outputs[0].shape)\n",
        "      generated_text = tokenizer.decode(outputs[0], skip_special_tokens=True)\n",
        "    ### END YOUR CODE ###\n",
        "\n",
        "    return generated_text"
      ],
      "metadata": {
        "id": "UEoWA6EIG-uD"
      },
      "execution_count": null,
      "outputs": []
    },
    {
      "cell_type": "code",
      "source": [
        "tokenizer.pad_token_id = tokenizer.eos_token_id\n",
        "\n",
        "sample_texts = ['Tell me about your day.',\n",
        "                'Hi, how are you?',\n",
        "                'We have to stop him before he blows up the village!',\n",
        "                'It\\'s a matter of life and death.',\n",
        "                'We really should get going.']\n",
        "\n",
        "for text in sample_texts:\n",
        "    result = gpt_inference(model, tokenizer, text)\n",
        "    print(result)\n",
        "    print('-----------------')"
      ],
      "metadata": {
        "id": "8tH7HHAKHACe"
      },
      "execution_count": null,
      "outputs": []
    },
    {
      "cell_type": "code",
      "source": [
        "# Save the LoRA model weights\n",
        "trainer.model.save_pretrained(\"my-new-dialogue-model\")\n",
        "\n",
        "# Load the original model again without quantization (so we can apply the weights to the full precision model)\n",
        "base_model = AutoModelForCausalLM.from_pretrained(\n",
        "    MODEL_NAME,\n",
        "    low_cpu_mem_usage=True,\n",
        "    return_dict=True,\n",
        "    torch_dtype=torch.float16,\n",
        "    device_map='auto',\n",
        ")\n",
        "\n",
        "# Merge the model weights\n",
        "model = PeftModel.from_pretrained(base_model, \"my-new-dialogue-model\")\n",
        "model = model.merge_and_unload()\n",
        "\n",
        "# Save model locally\n",
        "model.save_pretrained('.')"
      ],
      "metadata": {
        "id": "bsfifThVHEmk"
      },
      "execution_count": null,
      "outputs": []
    }
  ]
}